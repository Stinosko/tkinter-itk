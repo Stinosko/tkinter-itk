{
 "cells": [
  {
   "cell_type": "code",
   "execution_count": null,
   "metadata": {},
   "outputs": [],
   "source": [
    "import tkinter as tk\n",
    "from tkinter_itk import ITK_viewer\n",
    "import SimpleITK as sitk\n",
    "import asyncio\n",
    "\n",
    "# https://gist.github.com/sankhakarfa/35e522c31677fbc20b0e165cb05f9b41\n",
    "async def run_tk(root, interval=0.1):\n",
    "    '''\n",
    "    Run a tkinter app in an asyncio event loop.\n",
    "    '''\n",
    "    try:\n",
    "        while True:\n",
    "            \n",
    "            await root.update()\n",
    "            await asyncio.sleep(interval)\n",
    "    except tk.TclError as e:\n",
    "        if \"application has been destroyed\" not in e.args[0]:\n",
    "            raise\n",
    "\n",
    "root = tk.Tk()\n",
    "async def main(root):\n",
    "    app = ITK_viewer.MainWindow(root)\n",
    "    await run_tk(app)\n",
    "\n",
    "loop = asyncio.get_running_loop()\n",
    "loop.create_task(main(root))\n",
    "await asyncio.sleep(5)\n",
    "mainwindow = root._nametowidget('!mainwindow')\n"
   ]
  },
  {
   "cell_type": "code",
   "execution_count": null,
   "metadata": {},
   "outputs": [],
   "source": [
    "def get_dummy_SITK_image():\n",
    "    \"\"\"placeholder\"\"\"\n",
    "    image = sitk.Image(128,128,50, sitk.sitkInt16)\n",
    "    number = 10\n",
    "    for i in range(int(image.GetSize()[0]/2)):\n",
    "        image[i*2, :,:] = number\n",
    "        number += 3\n",
    "    \n",
    "    for i in range(int(image.GetSize()[1]/2)):\n",
    "        image[:, i*2, :] += number\n",
    "        number += 3\n",
    "    image.SetSpacing([2,3,1])\n",
    "    image.SetOrigin([6,0.15,0])\n",
    "    image.SetDirection([1,0.25,0,0,0.75,0,0,0,1])\n",
    "    return image"
   ]
  },
  {
   "cell_type": "code",
   "execution_count": null,
   "metadata": {},
   "outputs": [],
   "source": [
    "random_itk_image = get_dummy_SITK_image()\n",
    "mainwindow.new_image_input(random_itk_image, \"example_name\", add=True)\n"
   ]
  },
  {
   "cell_type": "code",
   "execution_count": null,
   "metadata": {},
   "outputs": [],
   "source": [
    "import matplotlib.pyplot as plt\n",
    "import numpy as np\n",
    "\n",
    "np_ITK_image = sitk.GetArrayViewFromImage(random_itk_image)\n",
    "\n",
    "\"\"\"plot image\"\"\"\n",
    "plt.imshow(np_ITK_image[5,:,:], cmap='gray')\n",
    "plt.show()\n"
   ]
  },
  {
   "cell_type": "code",
   "execution_count": null,
   "metadata": {},
   "outputs": [],
   "source": [
    "#histogram\n",
    "plt.hist(np_ITK_image.flatten(), bins=50)\n",
    "plt.show()\n"
   ]
  },
  {
   "cell_type": "markdown",
   "metadata": {},
   "source": []
  },
  {
   "cell_type": "code",
   "execution_count": null,
   "metadata": {},
   "outputs": [],
   "source": [
    "#creating example segmentation\n",
    "def get_dummy_SITK_image_segmentation():\n",
    "    \"\"\"placeholder\"\"\"\n",
    "    import cv2\n",
    "    size = random_itk_image.GetSize()\n",
    "    image = sitk.Image([size[-1], size[0], size[1]], sitk.sitkUInt8)\n",
    "\n",
    "    # Get the number of slices\n",
    "    num_slices = image.GetSize()[0]\n",
    "\n",
    "    # Create an empty list to store the modified slices\n",
    "    slices_with_numbers = []\n",
    "    np_array = np.empty(image.GetSize(), dtype=np.int16)\n",
    "    # Loop over each slice\n",
    "    for i in range(num_slices):\n",
    "        # Extract the slice\n",
    "        \n",
    "        # Normalize the slice array for visualization\n",
    "        np_array[i, :, :] = cv2.normalize(np_array[i, :, :], None, 0, 255, cv2.NORM_MINMAX).astype(np.uint8)\n",
    "        \n",
    "        # Write the slice number on the slice\n",
    "        cv2.putText(np_array[i, :, :], f\"{i}\", (10, 30), cv2.FONT_HERSHEY_SIMPLEX, 1, 5, 2)\n",
    "\n",
    "    new_img = sitk.GetImageFromArray(np_array)\n",
    "    return new_img"
   ]
  },
  {
   "cell_type": "code",
   "execution_count": null,
   "metadata": {},
   "outputs": [],
   "source": [
    "mainwindow.load_segmentation(get_dummy_SITK_image_segmentation(), \"example_name\")\n"
   ]
  },
  {
   "cell_type": "code",
   "execution_count": null,
   "metadata": {},
   "outputs": [],
   "source": []
  },
  {
   "cell_type": "code",
   "execution_count": null,
   "metadata": {},
   "outputs": [],
   "source": []
  }
 ],
 "metadata": {
  "kernelspec": {
   "display_name": ".venv",
   "language": "python",
   "name": "python3"
  },
  "language_info": {
   "codemirror_mode": {
    "name": "ipython",
    "version": 3
   },
   "file_extension": ".py",
   "mimetype": "text/x-python",
   "name": "python",
   "nbconvert_exporter": "python",
   "pygments_lexer": "ipython3",
   "version": "3.10.11"
  }
 },
 "nbformat": 4,
 "nbformat_minor": 2
}
